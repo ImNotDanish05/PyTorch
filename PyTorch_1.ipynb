{
  "nbformat": 4,
  "nbformat_minor": 0,
  "metadata": {
    "colab": {
      "provenance": [],
      "gpuType": "T4",
      "authorship_tag": "ABX9TyODXIpPpjTXE+RNvsFArBBJ",
      "include_colab_link": true
    },
    "kernelspec": {
      "name": "python3",
      "display_name": "Python 3"
    },
    "language_info": {
      "name": "python"
    },
    "accelerator": "GPU"
  },
  "cells": [
    {
      "cell_type": "markdown",
      "metadata": {
        "id": "view-in-github",
        "colab_type": "text"
      },
      "source": [
        "<a href=\"https://colab.research.google.com/github/ImNotDanish05/PyTorch/blob/main/PyTorch_1.ipynb\" target=\"_parent\"><img src=\"https://colab.research.google.com/assets/colab-badge.svg\" alt=\"Open In Colab\"/></a>"
      ]
    },
    {
      "cell_type": "code",
      "source": [
        "import torch\n",
        "\n",
        "x = torch.empty(4, 3, 2, 1)\n",
        "print(x)"
      ],
      "metadata": {
        "colab": {
          "base_uri": "https://localhost:8080/"
        },
        "id": "gJYSbJQ8W4Bl",
        "outputId": "90377944-3e01-4fbb-fbca-d6afcc5a2ce7"
      },
      "execution_count": 8,
      "outputs": [
        {
          "output_type": "stream",
          "name": "stdout",
          "text": [
            "tensor([[[[-1.0556e-23],\n",
            "          [ 4.5364e-41]],\n",
            "\n",
            "         [[ 2.3726e-33],\n",
            "          [ 0.0000e+00]],\n",
            "\n",
            "         [[ 2.1715e-18],\n",
            "          [ 2.3081e-12]]],\n",
            "\n",
            "\n",
            "        [[[ 2.6302e+20],\n",
            "          [ 6.1943e-04]],\n",
            "\n",
            "         [[ 3.6022e-12],\n",
            "          [ 6.9989e+22]],\n",
            "\n",
            "         [[ 2.6330e+20],\n",
            "          [ 6.1943e-04]]],\n",
            "\n",
            "\n",
            "        [[[ 3.6022e-12],\n",
            "          [ 7.1223e+28]],\n",
            "\n",
            "         [[ 9.1084e-44],\n",
            "          [ 0.0000e+00]],\n",
            "\n",
            "         [[ 2.3720e-33],\n",
            "          [ 0.0000e+00]]],\n",
            "\n",
            "\n",
            "        [[[-1.0556e-23],\n",
            "          [ 4.5364e-41]],\n",
            "\n",
            "         [[ 2.3910e-33],\n",
            "          [ 0.0000e+00]],\n",
            "\n",
            "         [[-1.0556e-23],\n",
            "          [ 4.5364e-41]]]])\n"
          ]
        }
      ]
    },
    {
      "cell_type": "code",
      "source": [],
      "metadata": {
        "id": "_3piMGJjXII3"
      },
      "execution_count": null,
      "outputs": []
    }
  ]
}